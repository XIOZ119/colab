{
  "nbformat": 4,
  "nbformat_minor": 0,
  "metadata": {
    "colab": {
      "provenance": [],
      "authorship_tag": "ABX9TyNyJ8cCKy1h6x+LcK3ML0DZ",
      "include_colab_link": true
    },
    "kernelspec": {
      "name": "python3",
      "display_name": "Python 3"
    },
    "language_info": {
      "name": "python"
    }
  },
  "cells": [
    {
      "cell_type": "markdown",
      "metadata": {
        "id": "view-in-github",
        "colab_type": "text"
      },
      "source": [
        "<a href=\"https://colab.research.google.com/github/XIOZ119/colab/blob/main/cross_validation.ipynb\" target=\"_parent\"><img src=\"https://colab.research.google.com/assets/colab-badge.svg\" alt=\"Open In Colab\"/></a>"
      ]
    },
    {
      "cell_type": "code",
      "execution_count": 8,
      "metadata": {
        "colab": {
          "base_uri": "https://localhost:8080/",
          "height": 775
        },
        "id": "roty1GnosHAs",
        "outputId": "3f1d4339-b54e-4465-ef30-361643d75351"
      },
      "outputs": [
        {
          "output_type": "stream",
          "name": "stdout",
          "text": [
            "ideal: 0.840\n",
            "> folds=2, accuracy=0.740 (0.700, 0.780)\n",
            "> folds=3, accuracy=0.749 (0.697, 0.824)\n",
            "> folds=4, accuracy=0.790 (0.640, 0.920)\n",
            "> folds=5, accuracy=0.810 (0.600, 0.950)\n",
            "> folds=6, accuracy=0.820 (0.688, 0.941)\n",
            "> folds=7, accuracy=0.799 (0.571, 1.000)\n",
            "> folds=8, accuracy=0.811 (0.385, 0.923)\n",
            "> folds=9, accuracy=0.829 (0.636, 1.000)\n",
            "> folds=10, accuracy=0.850 (0.600, 1.000)\n",
            "> folds=11, accuracy=0.829 (0.667, 1.000)\n",
            "> folds=12, accuracy=0.785 (0.250, 1.000)\n",
            "> folds=13, accuracy=0.839 (0.571, 1.000)\n",
            "> folds=14, accuracy=0.807 (0.429, 1.000)\n",
            "> folds=15, accuracy=0.821 (0.571, 1.000)\n",
            "> folds=16, accuracy=0.827 (0.500, 1.000)\n",
            "> folds=17, accuracy=0.816 (0.600, 1.000)\n",
            "> folds=18, accuracy=0.831 (0.600, 1.000)\n",
            "> folds=19, accuracy=0.826 (0.600, 1.000)\n"
          ]
        },
        {
          "output_type": "display_data",
          "data": {
            "text/plain": [
              "<Figure size 640x480 with 1 Axes>"
            ],
            "image/png": "[encoded data removed]"
          },
          "metadata": {}
        }
      ],
      "source": [
        "from numpy import mean\n",
        "from sklearn.datasets import make_classification\n",
        "from sklearn.model_selection import LeaveOneOut\n",
        "from sklearn.model_selection import KFold\n",
        "from sklearn.model_selection import cross_val_score\n",
        "from sklearn.linear_model import LogisticRegression\n",
        "from matplotlib import pyplot\n",
        "\n",
        "def evaluate_model(cv):\n",
        "  X, y = make_classification(n_samples=100, n_features=20, n_informative=15, n_redundant=5, random_state=1)\n",
        "  model = LogisticRegression()\n",
        "  scores = cross_val_score(model, X, y, scoring='accuracy', cv=cv, n_jobs=-1)\n",
        "  return mean(scores), scores.min(), scores.max()\n",
        "\n",
        "ideal, _, _ = evaluate_model(LeaveOneOut())\n",
        "print('ideal: %.3f' %ideal)\n",
        "folds = range(2,20)\n",
        "means, mins, maxs = list(), list(), list()\n",
        "\n",
        "for k in folds:\n",
        "    cv = KFold(n_splits=k, shuffle=True, random_state=1)\n",
        "    k_mean, k_min, k_max = evaluate_model(cv)\n",
        "    print('> folds=%d, accuracy=%.3f (%.3f, %.3f)' % (k, k_mean, k_min, k_max))\n",
        "    means.append(k_mean)\n",
        "    mins.append(k_mean - k_min)\n",
        "    maxs.append(k_max - k_mean)\n",
        "\n",
        "pyplot.errorbar(folds, means, yerr=[mins, maxs], fmt='o')\n",
        "pyplot.plot(folds, [ideal for _ in range(len(folds))], color ='r')\n",
        "pyplot.show()"
      ]
    }
  ]
}