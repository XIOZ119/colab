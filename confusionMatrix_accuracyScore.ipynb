{
  "nbformat": 4,
  "nbformat_minor": 0,
  "metadata": {
    "colab": {
      "provenance": [],
      "authorship_tag": "ABX9TyPUWcth+L5tm+0dOx2URsuk",
      "include_colab_link": true
    },
    "kernelspec": {
      "name": "python3",
      "display_name": "Python 3"
    },
    "language_info": {
      "name": "python"
    }
  },
  "cells": [
    {
      "cell_type": "markdown",
      "metadata": {
        "id": "view-in-github",
        "colab_type": "text"
      },
      "source": [
        "<a href=\"https://colab.research.google.com/github/XIOZ119/colab/blob/main/confusionMatrix_accuracyScore.ipynb\" target=\"_parent\"><img src=\"https://colab.research.google.com/assets/colab-badge.svg\" alt=\"Open In Colab\"/></a>"
      ]
    },
    {
      "cell_type": "code",
      "execution_count": 2,
      "metadata": {
        "colab": {
          "base_uri": "https://localhost:8080/"
        },
        "id": "2ANYV2FwJ-Gh",
        "outputId": "dbadf9d1-fe8a-42e3-f0a1-393d4f2867a2"
      },
      "outputs": [
        {
          "output_type": "stream",
          "name": "stdout",
          "text": [
            "confusion matrix\n",
            "[[1 2]\n",
            " [1 3]]\n",
            "accuracy:  0.5714285714285714\n",
            "accuracy:  0.5\n"
          ]
        }
      ],
      "source": [
        "import numpy as np\n",
        "from sklearn.metrics import accuracy_score, confusion_matrix\n",
        "\n",
        "y_true = [\"positive\", \"negative\", \"negative\", \"positive\", \"positive\", \"positive\", \"negative\"]\n",
        "y_pred = [\"positive\", \"negative\", \"positive\", \"positive\", \"negative\", \"positive\", \"positive\"]\n",
        "\n",
        "cm = confusion_matrix(y_true, y_pred)\n",
        "print('confusion matrix')\n",
        "print(cm)\n",
        "a = accuracy_score(y_true, y_pred)\n",
        "print('accuracy: ', a)\n",
        "\n",
        "y_pred = [0, 5, 2, 4]\n",
        "y_true = [0, 1, 2, 3]\n",
        "a = accuracy_score(y_true, y_pred)\n",
        "print('accuracy: ', a)"
      ]
    }
  ]
}